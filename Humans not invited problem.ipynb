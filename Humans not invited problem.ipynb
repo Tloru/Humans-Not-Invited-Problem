{
 "cells": [
  {
   "cell_type": "code",
   "execution_count": 143,
   "metadata": {},
   "outputs": [],
   "source": [
    "import requests\n",
    "import re\n",
    "import pandas as pd\n",
    "from PIL import Image\n",
    "import hashlib\n",
    "\n",
    "import asyncio\n",
    "import aiohttp\n",
    "from time import time"
   ]
  },
  {
   "cell_type": "code",
   "execution_count": 362,
   "metadata": {},
   "outputs": [],
   "source": [
    "async def load_image(url, session, tag):\n",
    "    async with session.get('http://www.humansnotinvited.com/' + url, allow_redirects=True) as response:\n",
    "        data = await response.read()\n",
    "    hsh = hashlib.md5(data).hexdigest()\n",
    "    d[tag] = d.get(tag, {})\n",
    "    d[tag][hsh] = d[tag].get(hsh, 0) + 1"
   ]
  },
  {
   "cell_type": "code",
   "execution_count": 307,
   "metadata": {},
   "outputs": [],
   "source": [
    "async def load_pages(session):\n",
    "    async with session.get('http://www.humansnotinvited.com/', allow_redirects=True) as response:\n",
    "        data = await response.read()\n",
    "    images = find_all_images(data)\n",
    "    tag = find_tag(data)\n",
    "    tasks = []\n",
    "    for i in images:\n",
    "        tasks.append(asyncio.create_task(load_image(i, session, tag)))\n",
    "    await asyncio.gather(*tasks)"
   ]
  },
  {
   "cell_type": "code",
   "execution_count": 308,
   "metadata": {},
   "outputs": [],
   "source": [
    "def find_all_images(content):\n",
    "    return re.findall('captcha/image.php\\\\?image_name=.*?&id=.', str(content))"
   ]
  },
  {
   "cell_type": "code",
   "execution_count": 309,
   "metadata": {},
   "outputs": [],
   "source": [
    "def find_tag(content):\n",
    "    return re.findall('value=\"(.*?)\" name=\"category\"', str(content))[0]"
   ]
  },
  {
   "cell_type": "code",
   "execution_count": 337,
   "metadata": {},
   "outputs": [],
   "source": [
    "async def main():\n",
    "    n = 1\n",
    "    tasks = []\n",
    "    async with aiohttp.ClientSession() as session:\n",
    "        for i in range(n):\n",
    "            if not i % 25:\n",
    "                print(i)\n",
    "            await load_pages(session)"
   ]
  },
  {
   "cell_type": "markdown",
   "metadata": {},
   "source": [
    "# Start collecting the data for the algorithm "
   ]
  },
  {
   "cell_type": "code",
   "execution_count": 338,
   "metadata": {},
   "outputs": [
    {
     "name": "stdout",
     "output_type": "stream",
     "text": [
      "0\n"
     ]
    },
    {
     "data": {
      "text/plain": [
       "2.4895269870758057"
      ]
     },
     "execution_count": 338,
     "metadata": {},
     "output_type": "execute_result"
    }
   ],
   "source": [
    "t0 = time()\n",
    "await main()\n",
    "time() - t0"
   ]
  },
  {
   "cell_type": "code",
   "execution_count": 353,
   "metadata": {},
   "outputs": [
    {
     "data": {
      "text/plain": [
       "(217, 24)"
      ]
     },
     "execution_count": 353,
     "metadata": {},
     "output_type": "execute_result"
    }
   ],
   "source": [
    "df = pd.DataFrame(d)\n",
    "df.shape"
   ]
  },
  {
   "cell_type": "markdown",
   "metadata": {},
   "source": [
    "# Save / Load results from / to the file"
   ]
  },
  {
   "cell_type": "code",
   "execution_count": 354,
   "metadata": {},
   "outputs": [],
   "source": [
    "df.to_csv('nothuman.csv')"
   ]
  },
  {
   "cell_type": "code",
   "execution_count": 267,
   "metadata": {},
   "outputs": [],
   "source": [
    "df = pd.read_csv('nothuman.csv', index_col=0)"
   ]
  },
  {
   "cell_type": "markdown",
   "metadata": {},
   "source": [
    "# Type here your html code for http://www.humansnotinvited.com/ page"
   ]
  },
  {
   "cell_type": "code",
   "execution_count": 350,
   "metadata": {},
   "outputs": [],
   "source": [
    "content = \"\"\"\n",
    "<div class=\"header\">\n",
    "            <p>Select all squares with <strong>star trek</strong></p>\n",
    "            <input type=\"hidden\" value=\"star_trek\" name=\"category\" />\n",
    "          </div>\n",
    "\n",
    "          <div class=\"content\">\n",
    "            <div class=\"captcha-image\" data-token=\"$1$m4m0mb1q$EDIrQjvIDte/hYJjR89.F0\" data-id=\"2\"><img src=\"captcha/image.php?image_name=$1$m4m0mb1q$EDIrQjvIDte/hYJjR89.F0&id=2\" alt=\"\" /></div><div class=\"captcha-image\" data-token=\"$1$jsqPPWXs$XgF0H7RtYYwtpSQAYMgwn0\" data-id=\"9\"><img src=\"captcha/image.php?image_name=$1$jsqPPWXs$XgF0H7RtYYwtpSQAYMgwn0&id=9\" alt=\"\" /></div><div class=\"captcha-image\" data-token=\"$1$yrNKx9O8$j/ioQRdn2SwzJck1xVfTl0\" data-id=\"7\"><img src=\"captcha/image.php?image_name=$1$yrNKx9O8$j/ioQRdn2SwzJck1xVfTl0&id=7\" alt=\"\" /></div><div class=\"captcha-image\" data-token=\"$1$23flc1Rj$Cy2JGeb7Z15uK3E3ZLl3a/\" data-id=\"8\"><img src=\"captcha/image.php?image_name=$1$23flc1Rj$Cy2JGeb7Z15uK3E3ZLl3a/&id=8\" alt=\"\" /></div><div class=\"captcha-image\" data-token=\"$1$UQ5x0oN7$qgEAm5IGMntWBAxSyIk0r1\" data-id=\"6\"><img src=\"captcha/image.php?image_name=$1$UQ5x0oN7$qgEAm5IGMntWBAxSyIk0r1&id=6\" alt=\"\" /></div><div class=\"captcha-image\" data-token=\"$1$JL7.Jl7k$8jrJv.0CLfbqIT2YF0AXs1\" data-id=\"3\"><img src=\"captcha/image.php?image_name=$1$JL7.Jl7k$8jrJv.0CLfbqIT2YF0AXs1&id=3\" alt=\"\" /></div><div class=\"captcha-image\" data-token=\"$1$yT0VqnxU$pE8RFD6IxBNmOLckcGn8f.\" data-id=\"6\"><img src=\"captcha/image.php?image_name=$1$yT0VqnxU$pE8RFD6IxBNmOLckcGn8f.&id=6\" alt=\"\" /></div><div class=\"captcha-image\" data-token=\"$1$dsP3V8Ed$PdBwvhke0DspvfMSW2sau/\" data-id=\"4\"><img src=\"captcha/image.php?image_name=$1$dsP3V8Ed$PdBwvhke0DspvfMSW2sau/&id=4\" alt=\"\" /></div><div class=\"captcha-image\" data-token=\"$1$4/GbOZQn$PDAvPJyFLyPm6rCluw8n9.\" data-id=\"2\"><img src=\"captcha/image.php?image_name=$1$4/GbOZQn$PDAvPJyFLyPm6rCluw8n9.&id=2\" alt=\"\" /></div>          </div>\n",
    "        </div>\n",
    "\"\"\""
   ]
  },
  {
   "cell_type": "code",
   "execution_count": 351,
   "metadata": {},
   "outputs": [],
   "source": [
    "q = []\n",
    "new_images, new_tag = find_all_images(content), find_tag(content)\n",
    "async with aiohttp.ClientSession() as session:\n",
    "    for img in new_images:\n",
    "        async with session.get('http://www.humansnotinvited.com/' + img, allow_redirects=True) as response:\n",
    "            data = await response.read()\n",
    "        hsh = hashlib.md5(data).hexdigest()\n",
    "        q.append(hsh)"
   ]
  },
  {
   "cell_type": "markdown",
   "metadata": {},
   "source": [
    "# Select the cells with the numbers below\n",
    "<span>1|2|3</span><br/><span>4|5|6</span><br/><span>7|8|9</span>"
   ]
  },
  {
   "cell_type": "code",
   "execution_count": 352,
   "metadata": {},
   "outputs": [
    {
     "name": "stdout",
     "output_type": "stream",
     "text": [
      "1\n",
      "2\n",
      "4\n"
     ]
    }
   ],
   "source": [
    "answ = df.loc[q, [new_tag]] > 8\n",
    "for i in range(len(answ)):\n",
    "    if answ.iloc[i][new_tag]:\n",
    "        print(i + 1)"
   ]
  },
  {
   "cell_type": "code",
   "execution_count": null,
   "metadata": {},
   "outputs": [],
   "source": []
  },
  {
   "cell_type": "code",
   "execution_count": null,
   "metadata": {
    "collapsed": true
   },
   "outputs": [],
   "source": []
  }
 ],
 "metadata": {
  "kernelspec": {
   "display_name": "Python 3",
   "language": "python",
   "name": "python3"
  },
  "language_info": {
   "codemirror_mode": {
    "name": "ipython",
    "version": 3
   },
   "file_extension": ".py",
   "mimetype": "text/x-python",
   "name": "python",
   "nbconvert_exporter": "python",
   "pygments_lexer": "ipython3",
   "version": "3.7.3"
  }
 },
 "nbformat": 4,
 "nbformat_minor": 2
}
