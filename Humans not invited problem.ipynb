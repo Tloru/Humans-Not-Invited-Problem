{
 "cells": [
  {
   "cell_type": "code",
   "execution_count": 126,
   "metadata": {},
   "outputs": [],
   "source": [
    "import requests\n",
    "import re\n",
    "import pandas as pd\n",
    "from PIL import Image\n",
    "import hashlib"
   ]
  },
  {
   "cell_type": "code",
   "execution_count": 73,
   "metadata": {},
   "outputs": [],
   "source": [
    "def load_page():\n",
    "    return requests.get('http://www.humansnotinvited.com/')"
   ]
  },
  {
   "cell_type": "code",
   "execution_count": 75,
   "metadata": {},
   "outputs": [],
   "source": [
    "def get_content(page):\n",
    "    return str(page.content)"
   ]
  },
  {
   "cell_type": "code",
   "execution_count": 241,
   "metadata": {},
   "outputs": [],
   "source": [
    "def find_all_images(content):\n",
    "    return re.findall('captcha/image.php\\\\?image_name=.*?&id=.', content)"
   ]
  },
  {
   "cell_type": "code",
   "execution_count": 84,
   "metadata": {},
   "outputs": [],
   "source": [
    "def find_tag(content):\n",
    "    return re.findall('value=\"(.*?)\" name=\"category\"', content)[0]"
   ]
  },
  {
   "cell_type": "code",
   "execution_count": 243,
   "metadata": {},
   "outputs": [
    {
     "name": "stdout",
     "output_type": "stream",
     "text": [
      "Wall time: 7.94 s\n"
     ]
    }
   ],
   "source": [
    "%%time\n",
    "d = {}\n",
    "n = 1\n",
    "for i in range(n):\n",
    "    content = get_content(load_page())\n",
    "    new_images, new_tag = find_all_images(content), find_tag(content)\n",
    "    d[new_tag] = d.get(new_tag, {})\n",
    "    for img in new_images:\n",
    "        load_img = Image.open(requests.get('http://www.humansnotinvited.com/' + img, stream=True).raw)\n",
    "        hsh = hashlib.md5(load_img.tobytes()).hexdigest()\n",
    "        d[new_tag][hsh] = d[new_tag].get(hsh, 0) + 1\n",
    "df = pd.DataFrame(d)"
   ]
  },
  {
   "cell_type": "code",
   "execution_count": 267,
   "metadata": {},
   "outputs": [],
   "source": [
    "df = pd.read_csv('nothuman.csv', index_col=0)"
   ]
  },
  {
   "cell_type": "code",
   "execution_count": 289,
   "metadata": {
    "collapsed": true
   },
   "outputs": [],
   "source": [
    "content = \"\"\"\n",
    "<div class=\"captcha\">\n",
    "      <div class=\"container\">\n",
    "        <div class=\"captcha-container\">\n",
    "\n",
    "          <div class=\"header\">\n",
    "            <p>Select all squares with <strong>kids</strong></p>\n",
    "            <input type=\"hidden\" value=\"kids\" name=\"category\" />\n",
    "          </div>\n",
    "\n",
    "          <div class=\"content\">\n",
    "            <div class=\"captcha-image\" data-token=\"$1$W1kmA8cU$dc26k9DHnNkoWk4B2eprH.\" data-id=\"1\"><img src=\"captcha/image.php?image_name=$1$W1kmA8cU$dc26k9DHnNkoWk4B2eprH.&id=1\" alt=\"\" /></div><div class=\"captcha-image\" data-token=\"$1$5sPzqDRW$kFICV2vmmR56sephbS4e4/\" data-id=\"5\"><img src=\"captcha/image.php?image_name=$1$5sPzqDRW$kFICV2vmmR56sephbS4e4/&id=5\" alt=\"\" /></div><div class=\"captcha-image\" data-token=\"$1$lrmgAK2I$/kPso6NSocp8E/TdXTFUD.\" data-id=\"6\"><img src=\"captcha/image.php?image_name=$1$lrmgAK2I$/kPso6NSocp8E/TdXTFUD.&id=6\" alt=\"\" /></div><div class=\"captcha-image\" data-token=\"$1$q//TBhnE$ahSgZE8dyc.dJAi5AKrUm/\" data-id=\"6\"><img src=\"captcha/image.php?image_name=$1$q//TBhnE$ahSgZE8dyc.dJAi5AKrUm/&id=6\" alt=\"\" /></div><div class=\"captcha-image\" data-token=\"$1$AsFUXFU8$V/7gmrPWWzoCwUghmDT5c0\" data-id=\"7\"><img src=\"captcha/image.php?image_name=$1$AsFUXFU8$V/7gmrPWWzoCwUghmDT5c0&id=7\" alt=\"\" /></div><div class=\"captcha-image\" data-token=\"$1$9ZCAXBWu$s/i2/04QszN5QwjJioRbf0\" data-id=\"7\"><img src=\"captcha/image.php?image_name=$1$9ZCAXBWu$s/i2/04QszN5QwjJioRbf0&id=7\" alt=\"\" /></div><div class=\"captcha-image\" data-token=\"$1$SiUje852$x3qdTWVnkrfR9JWaiX6rE.\" data-id=\"3\"><img src=\"captcha/image.php?image_name=$1$SiUje852$x3qdTWVnkrfR9JWaiX6rE.&id=3\" alt=\"\" /></div><div class=\"captcha-image\" data-token=\"$1$9IzC6ykv$oz6yBPPfQVCJV8SYLX/.s1\" data-id=\"8\"><img src=\"captcha/image.php?image_name=$1$9IzC6ykv$oz6yBPPfQVCJV8SYLX/.s1&id=8\" alt=\"\" /></div><div class=\"captcha-image\" data-token=\"$1$OMBTky8K$lFKpycFv5/ZtPj9zsupdh1\" data-id=\"3\"><img src=\"captcha/image.php?image_name=$1$OMBTky8K$lFKpycFv5/ZtPj9zsupdh1&id=3\" alt=\"\" /></div>          </div>\n",
    "        </div>\n",
    "\n",
    "\"\"\""
   ]
  },
  {
   "cell_type": "code",
   "execution_count": 290,
   "metadata": {},
   "outputs": [],
   "source": [
    "q = []\n",
    "new_images, new_tag = find_all_images(content), find_tag(content)\n",
    "for img in new_images:\n",
    "    load_img = Image.open(requests.get('http://www.humansnotinvited.com/' + img, stream=True).raw)\n",
    "    hsh = hashlib.md5(load_img.tobytes()).hexdigest()\n",
    "    q.append(hsh)"
   ]
  },
  {
   "cell_type": "code",
   "execution_count": 291,
   "metadata": {},
   "outputs": [
    {
     "name": "stdout",
     "output_type": "stream",
     "text": [
      "3\n",
      "5\n",
      "8\n"
     ]
    }
   ],
   "source": [
    "answ = df.loc[q, [new_tag]] > 1\n",
    "for i in range(len(answ)):\n",
    "    if answ.iloc[i][new_tag]:\n",
    "        print(i + 1)"
   ]
  },
  {
   "cell_type": "code",
   "execution_count": null,
   "metadata": {
    "collapsed": true
   },
   "outputs": [],
   "source": []
  }
 ],
 "metadata": {
  "kernelspec": {
   "display_name": "Python 3",
   "language": "python",
   "name": "python3"
  }
 },
 "nbformat": 4,
 "nbformat_minor": 2
}
